{
 "cells": [
  {
   "cell_type": "code",
   "execution_count": 34,
   "metadata": {},
   "outputs": [],
   "source": [
    "import requests\n",
    "from bs4 import BeautifulSoup\n",
    "import pandas as pd\n",
    "\n",
    "\n",
    "def stocks_crawler():\n",
    "    df_list = []\n",
    "    url = 'https://www.tadawul.com.sa/wps/portal/tadawul/markets/reports-&-publications/market-reports/foreign-ownership/!ut/p/z1/pc_NCoJAFAXgZ-kJ5sx4_Wk5ODkO_pCkZbMJFxFGWYvo-VNpE5QR3d2F71zuYZbVzHbNvT00t_bSNad-31pvZ5aauAlEglxxSK6yUkbgWhPbjECIMOBzQqpN7kMWMl5H69KBdpj9J'\n",
    "    source_code = requests.get(url)\n",
    "    plain_text = source_code.text\n",
    "    soup = BeautifulSoup(plain_text)\n",
    "    table = soup.find('tbody')\n",
    "    for row in table.find_all('tr'):\n",
    "        symbol = row.find('td').text\n",
    "        company = row.find_all('td')[1].find('a').text.replace('*','').strip()\n",
    "        maximum_limit = row.find_all('td')[2].text\n",
    "        actual = row.find_all('td')[3].text\n",
    "        ownership = row.find_all('td')[4].text\n",
    "        df_list.append({'symbol': symbol,\n",
    "                        'company': company,\n",
    "                        'maximum_limit': maximum_limit,\n",
    "                        'actual': actual,\n",
    "                        'ownership': ownership  \n",
    "                        })\n",
    "    return df_list\n",
    "df_list = stocks_crawler()\n",
    "df = pd.DataFrame(df_list, columns = ['symbol', 'company','maximum_limit', 'actual', 'ownership'])"
   ]
  },
  {
   "cell_type": "code",
   "execution_count": 41,
   "metadata": {},
   "outputs": [],
   "source": [
    "df.to_csv('exported.csv',index=False)"
   ]
  }
 ],
 "metadata": {
  "kernelspec": {
   "display_name": "Python 3",
   "language": "python",
   "name": "python3"
  },
  "language_info": {
   "codemirror_mode": {
    "name": "ipython",
    "version": 3
   },
   "file_extension": ".py",
   "mimetype": "text/x-python",
   "name": "python",
   "nbconvert_exporter": "python",
   "pygments_lexer": "ipython3",
   "version": "3.8.3"
  }
 },
 "nbformat": 4,
 "nbformat_minor": 4
}
